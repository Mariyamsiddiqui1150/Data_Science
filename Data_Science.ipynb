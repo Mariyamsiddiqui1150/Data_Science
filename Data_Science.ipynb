{
 "cells": [
  {
   "cell_type": "markdown",
   "id": "034da7bb-6822-4ad4-875c-7c2d8a4678ec",
   "metadata": {},
   "source": []
  },
  {
   "cell_type": "code",
   "execution_count": 2,
   "id": "d5340648-d9e3-4541-974a-f776638304a7",
   "metadata": {},
   "outputs": [
    {
     "name": "stdout",
     "output_type": "stream",
     "text": [
      "Hello Data Science World\n"
     ]
    }
   ],
   "source": [
    "print(\"Hello Data Science World\")"
   ]
  },
  {
   "cell_type": "code",
   "execution_count": 3,
   "id": "ef10cc02",
   "metadata": {},
   "outputs": [
    {
     "name": "stdout",
     "output_type": "stream",
     "text": [
      "Hello Data Science World\n"
     ]
    }
   ],
   "source": [
    "print(\"Hello Data Science World\")"
   ]
  },
  {
   "cell_type": "code",
   "execution_count": 4,
   "id": "ab10c294-21aa-4355-812e-e351a8b92e3e",
   "metadata": {},
   "outputs": [
    {
     "name": "stdout",
     "output_type": "stream",
     "text": [
      "Mariyam Siddiqui\n"
     ]
    }
   ],
   "source": [
    "print(\"Mariyam Siddiqui\")"
   ]
  },
  {
   "cell_type": "code",
   "execution_count": 5,
   "id": "412ee5f5-6d1b-4b28-9408-d3a0e577a8b2",
   "metadata": {},
   "outputs": [
    {
     "name": "stdout",
     "output_type": "stream",
     "text": [
      "Mariyam Siddiqui\n"
     ]
    }
   ],
   "source": [
    "print(\"Mariyam Siddiqui\")"
   ]
  },
  {
   "cell_type": "code",
   "execution_count": 12,
   "id": "0205158c-5928-4828-a9f3-6366e9d0dbd9",
   "metadata": {},
   "outputs": [
    {
     "data": {
      "text/plain": [
       "91"
      ]
     },
     "execution_count": 12,
     "metadata": {},
     "output_type": "execute_result"
    }
   ],
   "source": [
    "24+67"
   ]
  },
  {
   "cell_type": "code",
   "execution_count": null,
   "id": "046f03f8-fe9c-4058-b353-fabd7fc2e82a",
   "metadata": {},
   "outputs": [],
   "source": []
  }
 ],
 "metadata": {
  "kernelspec": {
   "display_name": "Python 3 (ipykernel)",
   "language": "python",
   "name": "python3"
  },
  "language_info": {
   "codemirror_mode": {
    "name": "ipython",
    "version": 3
   },
   "file_extension": ".py",
   "mimetype": "text/x-python",
   "name": "python",
   "nbconvert_exporter": "python",
   "pygments_lexer": "ipython3",
   "version": "3.12.4"
  }
 },
 "nbformat": 4,
 "nbformat_minor": 5
}
